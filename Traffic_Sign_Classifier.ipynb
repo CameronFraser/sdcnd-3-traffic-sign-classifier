{
 "cells": [
  {
   "cell_type": "markdown",
   "metadata": {},
   "source": [
    "# Self-Driving Car Engineer Nanodegree\n",
    "\n",
    "## Deep Learning\n",
    "\n",
    "## Project: Build a Traffic Sign Recognition Classifier\n"
   ]
  },
  {
   "cell_type": "markdown",
   "metadata": {},
   "source": [
    "In this project I will train a traffic sign classifier on the [German Traffic Sign](http://benchmark.ini.rub.de/?section=gtsrb&subsection=dataset) data set with an aim for model performance on test data to have an accuracy of 93% or higher. During this project I also took the time to try to develop deeper intuitions for the hyperparameters and their effect on the accuracy of the model. I came up with a list of hyperparameters that I wanted to experiment with and defined a range of values each could take. I then trained the model with each distinct set of hyperparameters for 4 epochs and recorded the results in a CSV file and found my top performing models based on their validation accuracy. The second part of this notebook and corresponding writeup will be analyzing the results from the data I collected."
   ]
  },
  {
   "cell_type": "markdown",
   "metadata": {},
   "source": [
    "---\n",
    "## Load Data  \n",
    "\n",
    "You should only need to run this section once. It takes a few minutes to download."
   ]
  },
  {
   "cell_type": "code",
   "execution_count": 1,
   "metadata": {},
   "outputs": [
    {
     "name": "stdout",
     "output_type": "stream",
     "text": [
      "Beginning data download...\n",
      "Data downloaded\n",
      "Unzipping\n",
      "Done\n"
     ]
    }
   ],
   "source": [
    "import urllib.request\n",
    "import zipfile\n",
    "import os\n",
    "\n",
    "try:\n",
    "    os.remove('./traffic-signs-data.zip')\n",
    "except OSError:\n",
    "    pass\n",
    "print('Beginning data download...')\n",
    "\n",
    "url = 'https://d17h27t6h515a5.cloudfront.net/topher/2017/February/5898cd6f_traffic-signs-data/traffic-signs-data.zip'  \n",
    "urllib.request.urlretrieve(url, './traffic-signs-data.zip')\n",
    "print('Data downloaded')\n",
    "print('Unzipping')\n",
    "\n",
    "z = zipfile.ZipFile('./traffic-signs-data.zip', 'r')\n",
    "z.extractall('./data')\n",
    "z.close()\n",
    "\n",
    "try:\n",
    "    os.remove('./traffic-signs-data.zip')\n",
    "except OSError:\n",
    "    pass\n",
    "\n",
    "print('Done')"
   ]
  },
  {
   "cell_type": "markdown",
   "metadata": {},
   "source": [
    "Here we are importing the following libraries:\n",
    "* pickle - for loading data  \n",
    "* numpy - array library and linear algebra operations  \n",
    "* tensorflow - machine learning framework  \n",
    "\n",
    "After importing we load the training, validation, and test data sets which have already been split for us and assigned to their respective feature set and feature label variables"
   ]
  },
  {
   "cell_type": "code",
   "execution_count": 1,
   "metadata": {},
   "outputs": [],
   "source": [
    "import pickle\n",
    "import numpy as np\n",
    "import tensorflow as tf"
   ]
  },
  {
   "cell_type": "code",
   "execution_count": 2,
   "metadata": {},
   "outputs": [],
   "source": [
    "training_file = \"data/train.p\"\n",
    "validation_file = \"data/valid.p\"\n",
    "testing_file = \"data/test.p\"\n",
    "\n",
    "with open(training_file, mode='rb') as f:\n",
    "    train = pickle.load(f)\n",
    "with open(validation_file, mode='rb') as f:\n",
    "    valid = pickle.load(f)\n",
    "with open(testing_file, mode='rb') as f:\n",
    "    test = pickle.load(f)\n",
    "    \n",
    "X_train, y_train = train['features'], train['labels']\n",
    "X_valid, y_valid = valid['features'], valid['labels']\n",
    "X_test, y_test = test['features'], test['labels']"
   ]
  },
  {
   "cell_type": "markdown",
   "metadata": {},
   "source": [
    "---\n",
    "\n",
    "## Dataset Summary & Exploration\n",
    "\n",
    "Exploring the data set first is important so we can start asking the following questions:  \n",
    "* Is there anything wrong with the data set that needs to be fixed? Examples: classes with really high frequencies relative to other classes, missing data, corrupted data, possible adversial agents manipulating training data, etc.\n",
    "* What type of data are we working with? Is it images? If so, is the object in question in full view? Do the images need to be resized? \n",
    "\n",
    "Below we use pandas to show a table with some stats about our data set. Although the data sets were already split up if we were working with another data set we would have similar proportions for the percentage split given the same amount of training data. A common strategy for splitting up the data set is to do an 80/20 split for train/test data and then on the train set do another 80/20 split for train/valid. This puts the train set at 64%, validation set at 16%, and test set at 20%. It is worth nothing that with very large datasets you can begin reducing the percentage given to the validation and test set. "
   ]
  },
  {
   "cell_type": "code",
   "execution_count": 3,
   "metadata": {},
   "outputs": [],
   "source": [
    "import pandas as pd"
   ]
  },
  {
   "cell_type": "code",
   "execution_count": 4,
   "metadata": {},
   "outputs": [
    {
     "data": {
      "text/html": [
       "<div>\n",
       "<style scoped>\n",
       "    .dataframe tbody tr th:only-of-type {\n",
       "        vertical-align: middle;\n",
       "    }\n",
       "\n",
       "    .dataframe tbody tr th {\n",
       "        vertical-align: top;\n",
       "    }\n",
       "\n",
       "    .dataframe thead th {\n",
       "        text-align: right;\n",
       "    }\n",
       "</style>\n",
       "<table border=\"1\" class=\"dataframe\">\n",
       "  <thead>\n",
       "    <tr style=\"text-align: right;\">\n",
       "      <th></th>\n",
       "      <th># Examples</th>\n",
       "      <th>Percent of total data</th>\n",
       "      <th>Shape</th>\n",
       "      <th># Classes</th>\n",
       "    </tr>\n",
       "  </thead>\n",
       "  <tbody>\n",
       "    <tr>\n",
       "      <th>TRAIN</th>\n",
       "      <td>34799</td>\n",
       "      <td>67.128996</td>\n",
       "      <td>(32, 32, 3)</td>\n",
       "      <td>43</td>\n",
       "    </tr>\n",
       "    <tr>\n",
       "      <th>VALIDATION</th>\n",
       "      <td>4410</td>\n",
       "      <td>8.507109</td>\n",
       "      <td>(32, 32, 3)</td>\n",
       "      <td>43</td>\n",
       "    </tr>\n",
       "    <tr>\n",
       "      <th>TEST</th>\n",
       "      <td>12630</td>\n",
       "      <td>24.363896</td>\n",
       "      <td>(32, 32, 3)</td>\n",
       "      <td>43</td>\n",
       "    </tr>\n",
       "  </tbody>\n",
       "</table>\n",
       "</div>"
      ],
      "text/plain": [
       "            # Examples  Percent of total data        Shape  # Classes\n",
       "TRAIN            34799              67.128996  (32, 32, 3)         43\n",
       "VALIDATION        4410               8.507109  (32, 32, 3)         43\n",
       "TEST             12630              24.363896  (32, 32, 3)         43"
      ]
     },
     "execution_count": 4,
     "metadata": {},
     "output_type": "execute_result"
    }
   ],
   "source": [
    "total_m = len(X_train) + len(X_valid) + len(X_test)\n",
    "pd.DataFrame({\n",
    "    \"# Examples\": [len(X_train), len(X_valid), len(X_test)],\n",
    "    'Percent of total data': [len(X_train)/total_m * 100, len(X_valid)/total_m * 100,len(X_test)/total_m * 100],\n",
    "    \"Shape\": [X_train[0].shape, X_valid[0].shape, X_test[0].shape],\n",
    "    \"# Classes\": [max(y_train) + 1, max(y_valid) + 1, max(y_test) + 1]\n",
    "},index=[\"TRAIN\", \"VALIDATION\", \"TEST\"], columns=[\"# Examples\", \"Percent of total data\", \"Shape\", \"# Classes\"])"
   ]
  },
  {
   "cell_type": "code",
   "execution_count": 10,
   "metadata": {},
   "outputs": [],
   "source": [
    "import seaborn as sns\n",
    "import matplotlib.pyplot as plt\n",
    "from plot import plot_images\n",
    "%matplotlib inline\n",
    "sns.set(style=\"dark\", rc={'figure.figsize':(11.7,8.27)})\n",
    "sns.set_palette(sns.color_palette(sns.cubehelix_palette(8, start=.5, rot=-.75) * 6))"
   ]
  },
  {
   "cell_type": "code",
   "execution_count": 11,
   "metadata": {},
   "outputs": [
    {
     "data": {
      "image/png": "[encoded data removed]",
      "text/plain": [
       "<matplotlib.figure.Figure at 0x1b327957940>"
      ]
     },
     "metadata": {},
     "output_type": "display_data"
    }
   ],
   "source": [
    "ax = sns.countplot(x=y_train)\n",
    "ax.set(title=\"Training Data Class Distribution\", xlabel='Class', ylabel=\"Frequency\")\n",
    "plt.show()"
   ]
  },
  {
   "cell_type": "markdown",
   "metadata": {},
   "source": [
    "Above is a histogram of the class distribution. There are quite a few classes with really high frequency than others, some by factors of 12. Image augmentation is a method meant to address the unbalanced frequencies."
   ]
  },
  {
   "cell_type": "markdown",
   "metadata": {},
   "source": [
    "### Pre-process the Data Set  \n",
    "\n",
    "We will begin by pre-processing the data set by converting the image to grayscale and then using mean normalization. Additionally we will use an image augmentation process to try to even out the frequency of the class distribution. We can augment images by changing the image to make it be perceived as a new image with operations such as flipping the image, zooming in, adding salt and pepper noise, rotating, and much more. In this particular implementation I use the roll, flip, and rotate operations which should be able to increase any given class by a factor of 9 at most."
   ]
  },
  {
   "cell_type": "code",
   "execution_count": 12,
   "metadata": {},
   "outputs": [
    {
     "name": "stderr",
     "output_type": "stream",
     "text": [
      "C:\\Users\\camfr\\Anaconda3\\envs\\carnd-term1\\lib\\site-packages\\sklearn\\utils\\fixes.py:313: FutureWarning: numpy not_equal will not check object identity in the future. The comparison did not return the same result as suggested by the identity (`is`)) and will change.\n",
      "  _nan_object_mask = _nan_object_array != _nan_object_array\n"
     ]
    }
   ],
   "source": [
    "from image import pre_process, augment\n",
    "from sklearn.utils import shuffle "
   ]
  },
  {
   "cell_type": "code",
   "execution_count": 13,
   "metadata": {},
   "outputs": [],
   "source": [
    "X_train = pre_process(X_train)\n",
    "X_valid = pre_process(X_valid)\n",
    "X_test = pre_process(X_test)\n",
    "X_aug, y_aug = augment(X_train, y_train)\n",
    "X_aug, y_aug = shuffle(X_aug, y_aug.astype('int'))\n",
    "X_aug = pre_process(X_aug)"
   ]
  },
  {
   "cell_type": "markdown",
   "metadata": {},
   "source": [
    "Let's look at the frequency of classes in the augmented dataset:"
   ]
  },
  {
   "cell_type": "code",
   "execution_count": 14,
   "metadata": {},
   "outputs": [
    {
     "data": {
      "image/png": "[encoded data removed]",
      "text/plain": [
       "<matplotlib.figure.Figure at 0x1b32812e2e8>"
      ]
     },
     "metadata": {},
     "output_type": "display_data"
    }
   ],
   "source": [
    "ax = sns.countplot(x=np.concatenate([y_train, y_aug]))\n",
    "ax.set(title=\"Training Data Class Distribution\", xlabel='Class', ylabel=\"Frequency\")\n",
    "plt.show()"
   ]
  },
  {
   "cell_type": "markdown",
   "metadata": {},
   "source": [
    "It looks a little bit better but my algorithm could have used some improvement. Additionally it was only at the time of writing this that I realized the image augmentation was returning floats for the numeric values."
   ]
  },
  {
   "cell_type": "markdown",
   "metadata": {},
   "source": [
    "### Model Architecture  \n",
    "\n",
    "We will only train one model in this jupyter notebook, but I trained 430 models with different hyperparameter sets to gain a better intuition of how hyperparameters affected the model. The hyperparameters we're using for this model was the winner from the top 5 showdown between the highest performing models.  \n",
    "\n",
    "### Hyperparameters\n",
    "\n",
    "* Learning Rate - 0.001 (The size of the steps we take to reach a minimum)\n",
    "* Epochs - 50 (An epoch is one full pass of the training data through the neural network)\n",
    "* Batch Size - 32 (Processing a small batch size instead of the entire training set at once will let us save memory and train faster)\n",
    "* Augmentation - True (Whether or not training data is augmented)\n",
    "* Architecture - CONV -> MAX_POOL -> RELU -> CONV -> MAX_POOL -> RELU -> FLATTEN -> FC -> DROPOUT -> RELU -> FC"
   ]
  },
  {
   "cell_type": "code",
   "execution_count": 14,
   "metadata": {},
   "outputs": [],
   "source": [
    "from nn import NN\n",
    "\n",
    "input_size = X_train[0].shape\n",
    "num_labels = max(y_train) + 1\n",
    "learning_rate = 0.001\n",
    "epochs = 50\n",
    "batch_size = 32\n",
    "augment = True\n",
    "dropout_keep_prob= 0.4\n",
    "architecture = [\n",
    "    { 'type': 'conv', 'filters': 64, 'ksize': [3, 3], 'stride': [1, 1] },\n",
    "    { 'type': 'max_pool', 'ksize': [2, 2], 'stride': [2, 2] },\n",
    "    { 'type': 'relu' },\n",
    "    { 'type': 'conv', 'filters': 128, 'ksize': [3, 3], 'stride': [1, 1] },\n",
    "    { 'type': 'max_pool', 'ksize': [2, 2], 'stride': [2, 2] },\n",
    "    { 'type': 'relu' },\n",
    "    { 'type': 'flatten' },\n",
    "    { 'type': 'fc', 'units': 128 },\n",
    "    { 'type': 'dropout' },\n",
    "    { 'type': 'relu' },\n",
    "    { 'type': 'fc', 'units': 43 }\n",
    "]\n",
    "\n",
    "\n",
    "tf.logging.set_verbosity(tf.logging.ERROR)"
   ]
  },
  {
   "cell_type": "markdown",
   "metadata": {},
   "source": [
    "### Train the Model\n",
    "\n",
    "With training we want to avoid overfitting by doing things like trainin the model for too long. Overfitting means that our network is beginning to memorize the training data which implies it is not making a good generalization about the data. Underfitting is just the opposite, but it seems that overfitting is an easier trap to fall into.  \n",
    "\n",
    "Below is an abstraction over the tensorflow API meant to reduce code clutter in the notebook."
   ]
  },
  {
   "cell_type": "code",
   "execution_count": 15,
   "metadata": {},
   "outputs": [
    {
     "name": "stdout",
     "output_type": "stream",
     "text": [
      "Training...\n",
      "EPOCH 1\n",
      "Validation Accuracy = 0.736\n",
      "\n",
      "EPOCH 2\n",
      "Validation Accuracy = 0.857\n",
      "\n",
      "EPOCH 3\n",
      "Validation Accuracy = 0.925\n",
      "\n",
      "EPOCH 4\n",
      "Validation Accuracy = 0.944\n",
      "\n",
      "EPOCH 5\n",
      "Validation Accuracy = 0.955\n",
      "\n",
      "EPOCH 6\n",
      "Validation Accuracy = 0.965\n",
      "\n",
      "EPOCH 7\n",
      "Validation Accuracy = 0.968\n",
      "\n",
      "EPOCH 8\n",
      "Validation Accuracy = 0.972\n",
      "\n",
      "EPOCH 9\n",
      "Validation Accuracy = 0.978\n",
      "\n",
      "EPOCH 10\n",
      "Validation Accuracy = 0.974\n",
      "\n",
      "EPOCH 11\n",
      "Validation Accuracy = 0.976\n",
      "\n",
      "EPOCH 12\n",
      "Validation Accuracy = 0.980\n",
      "\n",
      "EPOCH 13\n",
      "Validation Accuracy = 0.981\n",
      "\n",
      "EPOCH 14\n",
      "Validation Accuracy = 0.983\n",
      "\n",
      "EPOCH 15\n",
      "Validation Accuracy = 0.978\n",
      "\n",
      "EPOCH 16\n",
      "Validation Accuracy = 0.983\n",
      "\n",
      "EPOCH 17\n",
      "Validation Accuracy = 0.981\n",
      "\n",
      "EPOCH 18\n",
      "Validation Accuracy = 0.973\n",
      "\n",
      "EPOCH 19\n",
      "Validation Accuracy = 0.981\n",
      "\n",
      "EPOCH 20\n",
      "Validation Accuracy = 0.982\n",
      "\n",
      "EPOCH 21\n",
      "Validation Accuracy = 0.985\n",
      "\n",
      "EPOCH 22\n",
      "Validation Accuracy = 0.978\n",
      "\n",
      "EPOCH 23\n",
      "Validation Accuracy = 0.985\n",
      "\n",
      "EPOCH 24\n",
      "Validation Accuracy = 0.983\n",
      "\n",
      "EPOCH 25\n",
      "Validation Accuracy = 0.986\n",
      "\n",
      "EPOCH 26\n",
      "Validation Accuracy = 0.984\n",
      "\n",
      "EPOCH 27\n",
      "Validation Accuracy = 0.983\n",
      "\n",
      "EPOCH 28\n",
      "Validation Accuracy = 0.985\n",
      "\n",
      "EPOCH 29\n",
      "Validation Accuracy = 0.983\n",
      "\n",
      "EPOCH 30\n",
      "Validation Accuracy = 0.983\n",
      "\n",
      "EPOCH 31\n",
      "Validation Accuracy = 0.981\n",
      "\n",
      "EPOCH 32\n",
      "Validation Accuracy = 0.982\n",
      "\n",
      "EPOCH 33\n",
      "Validation Accuracy = 0.980\n",
      "\n",
      "EPOCH 34\n",
      "Validation Accuracy = 0.984\n",
      "\n",
      "EPOCH 35\n",
      "Validation Accuracy = 0.985\n",
      "\n",
      "EPOCH 36\n",
      "Validation Accuracy = 0.982\n",
      "\n",
      "EPOCH 37\n",
      "Validation Accuracy = 0.980\n",
      "\n",
      "EPOCH 38\n",
      "Validation Accuracy = 0.986\n",
      "\n",
      "EPOCH 39\n",
      "Validation Accuracy = 0.983\n",
      "\n",
      "EPOCH 40\n",
      "Validation Accuracy = 0.984\n",
      "\n",
      "EPOCH 41\n",
      "Validation Accuracy = 0.981\n",
      "\n",
      "EPOCH 42\n",
      "Validation Accuracy = 0.982\n",
      "\n",
      "EPOCH 43\n",
      "Validation Accuracy = 0.983\n",
      "\n",
      "EPOCH 44\n",
      "Validation Accuracy = 0.980\n",
      "\n",
      "EPOCH 45\n",
      "Validation Accuracy = 0.983\n",
      "\n",
      "EPOCH 46\n",
      "Validation Accuracy = 0.984\n",
      "\n",
      "EPOCH 47\n",
      "Validation Accuracy = 0.988\n",
      "\n",
      "EPOCH 48\n",
      "Validation Accuracy = 0.984\n",
      "\n",
      "EPOCH 49\n",
      "Validation Accuracy = 0.972\n",
      "\n",
      "EPOCH 50\n",
      "Validation Accuracy = 0.979\n",
      "\n"
     ]
    }
   ],
   "source": [
    "network = NN(epochs=epochs, batch_size=batch_size, learning_rate=learning_rate)\n",
    "features = np.concatenate([X_train, aug_X]) if augment == 'True' else X_train\n",
    "labels = np.concatenate([y_train, aug_y]) if augment == 'True' else y_train\n",
    "\n",
    "network.add_train_data(features, labels)\n",
    "network.add_test_data(X_test, y_test)\n",
    "network.add_validation_data(X_valid, y_valid)\n",
    "\n",
    "network.add_configuration(architecture, input_size=input_size)\n",
    "\n",
    "network.build(num_labels=num_labels)\n",
    "validation_accuracy = network.train(keep_prob=dropout_keep_prob)"
   ]
  },
  {
   "cell_type": "markdown",
   "metadata": {},
   "source": [
    "### Test the Model\n",
    "\n",
    "Finally we can test our model against new training data and see how well it does."
   ]
  },
  {
   "cell_type": "code",
   "execution_count": 18,
   "metadata": {},
   "outputs": [
    {
     "name": "stdout",
     "output_type": "stream",
     "text": [
      "Test Accuracy = 0.965\n"
     ]
    }
   ],
   "source": [
    "test_accuracy = network.test(save_name=\"savednetwork\")"
   ]
  },
  {
   "cell_type": "markdown",
   "metadata": {},
   "source": [
    "Our accuracy on the test set is 96.5% which is a little bit lower than what we were getting on the validation set. I did not go back and try to tune results from here as I felt that would sacrifice the integrity of the result and possibly appeal to test data."
   ]
  },
  {
   "cell_type": "markdown",
   "metadata": {},
   "source": [
    "---\n",
    "\n",
    "## Test a Model on New Images\n",
    "\n",
    "While we already tested the model on unseen data from the provided dataset, it would be interesting to see how well it perform on German traffic signs found outside of the dataset."
   ]
  },
  {
   "cell_type": "markdown",
   "metadata": {},
   "source": [
    "### Load and Output the Images"
   ]
  },
  {
   "cell_type": "code",
   "execution_count": null,
   "metadata": {},
   "outputs": [],
   "source": [
    "### Load the images and plot them here.\n",
    "### Feel free to use as many code cells as needed."
   ]
  },
  {
   "cell_type": "markdown",
   "metadata": {},
   "source": [
    "### Predict the Sign Type for Each Image"
   ]
  },
  {
   "cell_type": "code",
   "execution_count": null,
   "metadata": {},
   "outputs": [],
   "source": [
    "### Run the predictions here and use the model to output the prediction for each image.\n",
    "### Make sure to pre-process the images with the same pre-processing pipeline used earlier.\n",
    "### Feel free to use as many code cells as needed."
   ]
  },
  {
   "cell_type": "markdown",
   "metadata": {},
   "source": [
    "### Analyze Performance"
   ]
  },
  {
   "cell_type": "code",
   "execution_count": null,
   "metadata": {},
   "outputs": [],
   "source": [
    "### Calculate the accuracy for these 5 new images. \n",
    "### For example, if the model predicted 1 out of 5 signs correctly, it's 20% accurate on these new images."
   ]
  },
  {
   "cell_type": "markdown",
   "metadata": {},
   "source": [
    "### Output Top 5 Softmax Probabilities For Each Image Found on the Web"
   ]
  },
  {
   "cell_type": "markdown",
   "metadata": {},
   "source": [
    "For each of the new images, print out the model's softmax probabilities to show the **certainty** of the model's predictions (limit the output to the top 5 probabilities for each image). [`tf.nn.top_k`](https://www.tensorflow.org/versions/r0.12/api_docs/python/nn.html#top_k) could prove helpful here. \n",
    "\n",
    "The example below demonstrates how tf.nn.top_k can be used to find the top k predictions for each image.\n",
    "\n",
    "`tf.nn.top_k` will return the values and indices (class ids) of the top k predictions. So if k=3, for each sign, it'll return the 3 largest probabilities (out of a possible 43) and the correspoding class ids.\n",
    "\n",
    "Take this numpy array as an example. The values in the array represent predictions. The array contains softmax probabilities for five candidate images with six possible classes. `tf.nn.top_k` is used to choose the three classes with the highest probability:\n",
    "\n",
    "```\n",
    "# (5, 6) array\n",
    "a = np.array([[ 0.24879643,  0.07032244,  0.12641572,  0.34763842,  0.07893497,\n",
    "         0.12789202],\n",
    "       [ 0.28086119,  0.27569815,  0.08594638,  0.0178669 ,  0.18063401,\n",
    "         0.15899337],\n",
    "       [ 0.26076848,  0.23664738,  0.08020603,  0.07001922,  0.1134371 ,\n",
    "         0.23892179],\n",
    "       [ 0.11943333,  0.29198961,  0.02605103,  0.26234032,  0.1351348 ,\n",
    "         0.16505091],\n",
    "       [ 0.09561176,  0.34396535,  0.0643941 ,  0.16240774,  0.24206137,\n",
    "         0.09155967]])\n",
    "```\n",
    "\n",
    "Running it through `sess.run(tf.nn.top_k(tf.constant(a), k=3))` produces:\n",
    "\n",
    "```\n",
    "TopKV2(values=array([[ 0.34763842,  0.24879643,  0.12789202],\n",
    "       [ 0.28086119,  0.27569815,  0.18063401],\n",
    "       [ 0.26076848,  0.23892179,  0.23664738],\n",
    "       [ 0.29198961,  0.26234032,  0.16505091],\n",
    "       [ 0.34396535,  0.24206137,  0.16240774]]), indices=array([[3, 0, 5],\n",
    "       [0, 1, 4],\n",
    "       [0, 5, 1],\n",
    "       [1, 3, 5],\n",
    "       [1, 4, 3]], dtype=int32))\n",
    "```\n",
    "\n",
    "Looking just at the first row we get `[ 0.34763842,  0.24879643,  0.12789202]`, you can confirm these are the 3 largest probabilities in `a`. You'll also notice `[3, 0, 5]` are the corresponding indices."
   ]
  },
  {
   "cell_type": "code",
   "execution_count": null,
   "metadata": {},
   "outputs": [],
   "source": [
    "### Print out the top five softmax probabilities for the predictions on the German traffic sign images found on the web. \n",
    "### Feel free to use as many code cells as needed."
   ]
  }
 ],
 "metadata": {
  "anaconda-cloud": {},
  "kernelspec": {
   "display_name": "Python 3",
   "language": "python",
   "name": "python3"
  },
  "language_info": {
   "codemirror_mode": {
    "name": "ipython",
    "version": 3
   },
   "file_extension": ".py",
   "mimetype": "text/x-python",
   "name": "python",
   "nbconvert_exporter": "python",
   "pygments_lexer": "ipython3",
   "version": "3.5.2"
  },
  "widgets": {
   "state": {},
   "version": "1.1.2"
  }
 },
 "nbformat": 4,
 "nbformat_minor": 1
}
